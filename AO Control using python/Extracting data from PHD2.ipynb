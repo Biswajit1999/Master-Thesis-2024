{
 "cells": [
  {
   "cell_type": "code",
   "execution_count": null,
   "id": "18103002-3488-40bc-bfb2-eb867ba8bfa3",
   "metadata": {},
   "outputs": [],
   "source": [
    "import socket\n",
    "import json\n",
    "\n",
    "# PHD2 server connection details\n",
    "HOST = 'localhost'\n",
    "PORT = 4400\n",
    "\n",
    "def send_request(command):\n",
    "    \"\"\"Send a command to the PHD2 server and return the response.\"\"\"\n",
    "    with socket.create_connection((HOST, PORT)) as sock:\n",
    "        sock.sendall(json.dumps(command).encode('utf-8') + b'\\n')\n",
    "        response = sock.recv(4096).decode('utf-8')\n",
    "        return json.loads(response)\n",
    "\n",
    "def subscribe_to_events():\n",
    "    \"\"\"Subscribe to guide_step events to receive guiding data.\"\"\"\n",
    "    command = {\n",
    "        \"method\": \"set_subscriptions\",\n",
    "        \"params\": [\"guide_step\"],  # Subscribe to guide_step event\n",
    "        \"id\": 1\n",
    "    }\n",
    "    response = send_request(command)\n",
    "    print(\"Subscribed to guide_step events:\", response)\n",
    "\n",
    "def listen_for_pixel_changes():\n",
    "    \"\"\"Continuously listen for guiding events and extract pixel changes.\"\"\"\n",
    "    with socket.create_connection((HOST, PORT)) as sock:\n",
    "        while True:\n",
    "            data = sock.recv(4096).decode('utf-8')\n",
    "            for line in data.split(\"\\n\"):\n",
    "                if line.strip():\n",
    "                    try:\n",
    "                        event = json.loads(line)\n",
    "                        if event.get(\"Event\") == \"GuideStep\":\n",
    "                            dx = event.get(\"dx\", 0)  # X pixel change\n",
    "                            dy = event.get(\"dy\", 0)  # Y pixel change\n",
    "                            print(f\"Pixel Change Detected: ΔX = {dx}, ΔY = {dy}\")\n",
    "                    except json.JSONDecodeError:\n",
    "                        print(\"Error decoding JSON:\", line)\n",
    "\n",
    "if __name__ == \"__main__\":\n",
    "    print(\"Connecting to PHD2...\")\n",
    "    subscribe_to_events()\n",
    "    print(\"Listening for pixel changes...\")\n",
    "    listen_for_pixel_changes()\n"
   ]
  },
  {
   "cell_type": "code",
   "execution_count": null,
   "id": "c67e4416-ea59-45e1-8fd3-f4bc65393319",
   "metadata": {},
   "outputs": [],
   "source": []
  }
 ],
 "metadata": {
  "kernelspec": {
   "display_name": "Python 3 (ipykernel)",
   "language": "python",
   "name": "python3"
  },
  "language_info": {
   "codemirror_mode": {
    "name": "ipython",
    "version": 3
   },
   "file_extension": ".py",
   "mimetype": "text/x-python",
   "name": "python",
   "nbconvert_exporter": "python",
   "pygments_lexer": "ipython3",
   "version": "3.9.19"
  }
 },
 "nbformat": 4,
 "nbformat_minor": 5
}
