{
 "cells": [
  {
   "cell_type": "code",
   "execution_count": null,
   "id": "18103002-3488-40bc-bfb2-eb867ba8bfa3",
   "metadata": {},
   "outputs": [],
   "source": [
    "import socket\n",
    "import json\n",
    "\n",
    "# PHD2 server connection details\n",
    "HOST = 'localhost'\n",
    "PORT = 4400\n",
    "\n",
    "def get_guiding_stats():\n",
    "    \"\"\"Request and parse guiding stats from PHD2.\"\"\"\n",
    "    try:\n",
    "        with socket.create_connection((HOST, PORT)) as sock:\n",
    "            # Send a request for guiding stats\n",
    "            request = json.dumps({\"method\": \"get_stats\", \"id\": 1}) + '\\n'\n",
    "            sock.sendall(request.encode('utf-8'))\n",
    "            \n",
    "            buffer = \"\"\n",
    "            while True:\n",
    "                # Receive data from the server\n",
    "                data = sock.recv(4096).decode('utf-8')\n",
    "                buffer += data\n",
    "\n",
    "                # Split the buffer into complete JSON objects\n",
    "                while \"\\n\" in buffer:\n",
    "                    line, buffer = buffer.split(\"\\n\", 1)\n",
    "                    try:\n",
    "                        # Parse each JSON object\n",
    "                        response = json.loads(line)\n",
    "\n",
    "                        # Check if the response contains guiding stats\n",
    "                        if 'result' in response:\n",
    "                            stats = response['result']\n",
    "                            print(f\"Star Position: X = {stats['avg_dist_x']}, Y = {stats['avg_dist_y']}\")\n",
    "                            return stats['avg_dist_x'], stats['avg_dist_y']\n",
    "                        elif 'Event' in response:\n",
    "                            print(f\"Event received: {response['Event']} - Ignored\")\n",
    "                        else:\n",
    "                            print(f\"Unexpected response format: {response}\")\n",
    "                    except json.JSONDecodeError as e:\n",
    "                        print(f\"JSON decode error: {e}\")\n",
    "    except Exception as e:\n",
    "        print(f\"Error: {e}\")\n",
    "        return None, None\n",
    "\n",
    "if __name__ == \"__main__\":\n",
    "    x, y = get_guiding_stats()\n",
    "    if x is not None and y is not None:\n",
    "        print(f\"Retrieved star position: X = {x}, Y = {y}\")\n",
    "    else:\n",
    "        print(\"Failed to retrieve star position.\")\n"
   ]
  },
  {
   "cell_type": "code",
   "execution_count": null,
   "id": "c67e4416-ea59-45e1-8fd3-f4bc65393319",
   "metadata": {},
   "outputs": [],
   "source": []
  }
 ],
 "metadata": {
  "kernelspec": {
   "display_name": "Python 3 (ipykernel)",
   "language": "python",
   "name": "python3"
  },
  "language_info": {
   "codemirror_mode": {
    "name": "ipython",
    "version": 3
   },
   "file_extension": ".py",
   "mimetype": "text/x-python",
   "name": "python",
   "nbconvert_exporter": "python",
   "pygments_lexer": "ipython3",
   "version": "3.9.19"
  }
 },
 "nbformat": 4,
 "nbformat_minor": 5
}
