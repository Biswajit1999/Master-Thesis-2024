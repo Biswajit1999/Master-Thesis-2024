{
 "cells": [
  {
   "cell_type": "markdown",
   "id": "62c55bbf-405e-4428-a972-84f3e6f911ca",
   "metadata": {},
   "source": [
    "# Listening to Tracking.log file from Maxlm DL"
   ]
  },
  {
   "cell_type": "code",
   "execution_count": null,
   "id": "4ca54c04-bc94-472a-bab9-1b10c0066544",
   "metadata": {},
   "outputs": [],
   "source": [
    "import time\n",
    "\n",
    "def tail_log_file(file_path):\n",
    "    \"\"\"\n",
    "    Continuously reads a log file and prints new lines in real-time.\n",
    "    :param file_path: Path to the log file.\n",
    "    \"\"\"\n",
    "    with open(file_path, 'r') as file:\n",
    "        # Move to the end of the file\n",
    "        file.seek(0, 2)\n",
    "        \n",
    "        while True:\n",
    "            # Read new lines\n",
    "            line = file.readline()\n",
    "            \n",
    "            if not line:\n",
    "                # If no new line, wait for a while before trying again\n",
    "                time.sleep(0.5)\n",
    "                continue\n",
    "            \n",
    "            # Print the new line (or process it as needed)\n",
    "            print(line.strip())\n",
    "\n",
    "if __name__ == \"__main__\":\n",
    "    # Path to your Tracking.log file\n",
    "    log_file_path = \"C:\\\\Users\\\\labrat\\\\Desktop\\\\Tracking.log\"\n",
    "    \n",
    "    print(f\"Monitoring {log_file_path} for new entries...\\n\")\n",
    "    \n",
    "    # Start monitoring the log file\n",
    "    tail_log_file(log_file_path)"
   ]
  }
 ],
 "metadata": {
  "kernelspec": {
   "display_name": "Python 3 (ipykernel)",
   "language": "python",
   "name": "python3"
  },
  "language_info": {
   "codemirror_mode": {
    "name": "ipython",
    "version": 3
   },
   "file_extension": ".py",
   "mimetype": "text/x-python",
   "name": "python",
   "nbconvert_exporter": "python",
   "pygments_lexer": "ipython3",
   "version": "3.9.19"
  }
 },
 "nbformat": 4,
 "nbformat_minor": 5
}
